{
 "cells": [
  {
   "cell_type": "code",
   "execution_count": 1,
   "metadata": {
    "collapsed": true
   },
   "outputs": [],
   "source": [
    "import requests\n",
    "import time\n",
    "import hashlib"
   ]
  },
  {
   "cell_type": "code",
   "execution_count": 2,
   "metadata": {
    "collapsed": false,
    "pycharm": {
     "name": "#%%\n"
    }
   },
   "outputs": [],
   "source": [
    "YOUDAO_URL = \"https://dict.youdao.com/jsonapi_s\"\n",
    "\n",
    "YOUDAO_QUERY = {\n",
    "    \"doctype\": \"json\",\n",
    "    \"jsonversion\": 4\n",
    "}\n",
    "\n",
    "APP_KEY = \"Mk6hqtUp33DGGtoS63tTJbMUYjRrG1Lu\"\n",
    "\n",
    "\n",
    "def YOUDAO_WORD(word):\n",
    "    return f\"q={word}&appKey=1c81b216d114ced1&salt=1660396042212&from=en&to=zh-CHS&sign=e5dab2a7bd31e67f3959ed79e6db2083082d6a74166c46324a106d7099f4b600&signType=v3&curtime={int(time.time())}&headers%5BContent-Type%5D=application%2Fx-www-form-urlencoded\"\n",
    "\n",
    "\n",
    "from enum import Enum\n",
    "\n",
    "\n",
    "def encrpted(data: str):\n",
    "    return hashlib.md5(data.encode('utf-8')).hexdigest()\n",
    "\n",
    "\n",
    "# le:语言类型\n",
    "def api_data(word: str, dicts=\"dicts=ce&dicts=ec\", language: str = \"en\", client=\"web\", keyfrom=\"webdict\"):\n",
    "    time = len(word + keyfrom) % 10\n",
    "    salt = encrpted(word + keyfrom)\n",
    "    sign = encrpted(client + word + str(time) + APP_KEY + salt)\n",
    "    # print(client + word + str(time) + APP_KEY + salt)\n",
    "    data = f\"q={word}&le={language}&t={time}&client=web&sign={sign}&keyfrom={keyfrom}\"\n",
    "    return data\n",
    "\n",
    "\n",
    "class DicSource(Enum):\n",
    "    UNCLEAR = \"unclear\"\n",
    "    YOUDAO = \"youdao\"\n",
    "\n"
   ]
  },
  {
   "cell_type": "code",
   "execution_count": 3,
   "metadata": {
    "collapsed": false,
    "pycharm": {
     "name": "#%%\n"
    }
   },
   "outputs": [],
   "source": [
    "\n",
    "class Word:\n",
    "    word: str = \"\",\n",
    "    usphonetic: str = \"\",\n",
    "    ukphonetic: str = \"\",\n",
    "    meaning: str = \"\",\n",
    "    example: str = \"\",\n",
    "    source: DicSource = DicSource.UNCLEAR,\n",
    "    exam: str = \"\",\n",
    "\n",
    "    def __init__(self, word: str, usphonetic: str,\n",
    "                 ukphonetic: str, meaning: str, example: str,\n",
    "                 source: DicSource, exam: str):\n",
    "        self.word = word\n",
    "        self.usphonetic = usphonetic\n",
    "        self.ukphonetic = ukphonetic\n",
    "        self.meaning = meaning\n",
    "        self.example = example\n",
    "        self.source = source\n",
    "        self.exam = exam\n",
    "\n",
    "    def __str__(self):\n",
    "        return \"word : %s,usphonetic : %s, ukphonetic : %10s, meaning : %s, example : %s, exam: %s, source : %s\" % (\n",
    "            self.word, self.usphonetic, self.ukphonetic, self.meaning, self.example, self.exam, self.source)\n",
    "\n",
    "\n"
   ]
  },
  {
   "cell_type": "code",
   "execution_count": 5,
   "metadata": {
    "collapsed": false,
    "pycharm": {
     "name": "#%%\n"
    }
   },
   "outputs": [],
   "source": [
    "import logging\n",
    "\n",
    "\n",
    "# obtain all information from youdao's api.\n",
    "def __parse_word_from_youdao(word: str):\n",
    "    try:\n",
    "        details = requests.post(YOUDAO_URL, params=YOUDAO_QUERY, data=api_data(word), headers={\n",
    "            \"content-type\": \"application/x-www-form-urlencoded\"\n",
    "        }).json()\n",
    "        # concise dictionary\n",
    "        if \"ec\" in details and \"word\" in details.get(\"ec\", \"\"):\n",
    "            basic = details['ec']\n",
    "            trs = basic['word']['trs']\n",
    "            # print(trs)\n",
    "            meaning = \"\"\n",
    "            for tr in trs:\n",
    "                meaning += tr.pop(\"pos\", \"\") + tr['tran'] + ';'\n",
    "            return Word(\n",
    "                basic['word']['return-phrase'],\n",
    "                usphonetic=basic['word'].pop(\"usphone\", \"\"),\n",
    "                ukphonetic=basic['word'].pop(\"ukphone\", \"\"),\n",
    "                meaning=meaning,\n",
    "                example=details['blng_sents_part']['sentence-pair'][0]['sentence'],\n",
    "                source=DicSource.YOUDAO,\n",
    "                exam=\"，\".join(basic.pop('exam_type', [\"未知\"]))\n",
    "            )\n",
    "        else:\n",
    "            return None\n",
    "\n",
    "    except ValueError:\n",
    "        print(\"Parsing value failed!\", word)\n",
    "    except NameError:\n",
    "        print(\"Parsing name failed!\", word)\n",
    "    except KeyError as error:\n",
    "        print(\"Parsing key failed!\", word)\n",
    "        logging.exception(error)\n",
    "\n",
    "\n",
    "def query_word(source: DicSource, word: str):\n",
    "    if source == DicSource.YOUDAO:\n",
    "        return __parse_word_from_youdao(word)"
   ]
  },
  {
   "cell_type": "code",
   "execution_count": 6,
   "metadata": {
    "collapsed": false,
    "pycharm": {
     "name": "#%%\n"
    }
   },
   "outputs": [
    {
     "name": "stdout",
     "output_type": "stream",
     "text": [
      "q=intricate&le=en&t=6&client=web&sign=7cd29ed159942a0107a21a80fe634581&keyfrom=webdict\n"
     ]
    }
   ],
   "source": [
    "print(api_data(\"intricate\"))"
   ]
  },
  {
   "cell_type": "code",
   "execution_count": 7,
   "metadata": {
    "collapsed": false,
    "pycharm": {
     "name": "#%%\n"
    }
   },
   "outputs": [
    {
     "name": "stdout",
     "output_type": "stream",
     "text": [
      "Parsing value failed! rent\n",
      "None\n"
     ]
    }
   ],
   "source": [
    "demo_word = query_word(DicSource.YOUDAO, \"rent\")\n",
    "print(demo_word)"
   ]
  },
  {
   "cell_type": "code",
   "execution_count": 8,
   "metadata": {
    "collapsed": false,
    "pycharm": {
     "name": "#%%\n"
    }
   },
   "outputs": [
    {
     "ename": "FileNotFoundError",
     "evalue": "[Errno 2] No such file or directory: './形近单词.txt'",
     "output_type": "error",
     "traceback": [
      "\u001b[0;31m---------------------------------------------------------------------------\u001b[0m",
      "\u001b[0;31mFileNotFoundError\u001b[0m                         Traceback (most recent call last)",
      "Cell \u001b[0;32mIn[8], line 3\u001b[0m\n\u001b[1;32m      1\u001b[0m \u001b[38;5;28;01mimport\u001b[39;00m \u001b[38;5;21;01mcsv\u001b[39;00m\n\u001b[0;32m----> 3\u001b[0m csv_reader \u001b[38;5;241m=\u001b[39m csv\u001b[38;5;241m.\u001b[39mreader(\u001b[38;5;28;43mopen\u001b[39;49m\u001b[43m(\u001b[49m\u001b[38;5;124;43m\"\u001b[39;49m\u001b[38;5;124;43m./形近单词.txt\u001b[39;49m\u001b[38;5;124;43m\"\u001b[39;49m\u001b[43m)\u001b[49m)\n\u001b[1;32m      4\u001b[0m word_list \u001b[38;5;241m=\u001b[39m []\n\u001b[1;32m      5\u001b[0m \u001b[38;5;28;01mfor\u001b[39;00m line \u001b[38;5;129;01min\u001b[39;00m csv_reader:\n",
      "File \u001b[0;32m~/venv/lib/python3.12/site-packages/IPython/core/interactiveshell.py:324\u001b[0m, in \u001b[0;36m_modified_open\u001b[0;34m(file, *args, **kwargs)\u001b[0m\n\u001b[1;32m    317\u001b[0m \u001b[38;5;28;01mif\u001b[39;00m file \u001b[38;5;129;01min\u001b[39;00m {\u001b[38;5;241m0\u001b[39m, \u001b[38;5;241m1\u001b[39m, \u001b[38;5;241m2\u001b[39m}:\n\u001b[1;32m    318\u001b[0m     \u001b[38;5;28;01mraise\u001b[39;00m \u001b[38;5;167;01mValueError\u001b[39;00m(\n\u001b[1;32m    319\u001b[0m         \u001b[38;5;124mf\u001b[39m\u001b[38;5;124m\"\u001b[39m\u001b[38;5;124mIPython won\u001b[39m\u001b[38;5;124m'\u001b[39m\u001b[38;5;124mt let you open fd=\u001b[39m\u001b[38;5;132;01m{\u001b[39;00mfile\u001b[38;5;132;01m}\u001b[39;00m\u001b[38;5;124m by default \u001b[39m\u001b[38;5;124m\"\u001b[39m\n\u001b[1;32m    320\u001b[0m         \u001b[38;5;124m\"\u001b[39m\u001b[38;5;124mas it is likely to crash IPython. If you know what you are doing, \u001b[39m\u001b[38;5;124m\"\u001b[39m\n\u001b[1;32m    321\u001b[0m         \u001b[38;5;124m\"\u001b[39m\u001b[38;5;124myou can use builtins\u001b[39m\u001b[38;5;124m'\u001b[39m\u001b[38;5;124m open.\u001b[39m\u001b[38;5;124m\"\u001b[39m\n\u001b[1;32m    322\u001b[0m     )\n\u001b[0;32m--> 324\u001b[0m \u001b[38;5;28;01mreturn\u001b[39;00m \u001b[43mio_open\u001b[49m\u001b[43m(\u001b[49m\u001b[43mfile\u001b[49m\u001b[43m,\u001b[49m\u001b[43m \u001b[49m\u001b[38;5;241;43m*\u001b[39;49m\u001b[43margs\u001b[49m\u001b[43m,\u001b[49m\u001b[43m \u001b[49m\u001b[38;5;241;43m*\u001b[39;49m\u001b[38;5;241;43m*\u001b[39;49m\u001b[43mkwargs\u001b[49m\u001b[43m)\u001b[49m\n",
      "\u001b[0;31mFileNotFoundError\u001b[0m: [Errno 2] No such file or directory: './形近单词.txt'"
     ]
    }
   ],
   "source": [
    "import csv\n",
    "\n",
    "csv_reader = csv.reader(open(\"./形近单词.txt\"))\n",
    "word_list = []\n",
    "for line in csv_reader:\n",
    "    for word in line:\n",
    "        if word.strip() != '':\n",
    "            word_list.append(word.strip())"
   ]
  },
  {
   "cell_type": "code",
   "execution_count": null,
   "metadata": {
    "collapsed": false,
    "pycharm": {
     "name": "#%%\n"
    }
   },
   "outputs": [],
   "source": [
    "# 创建一个csv文件，存放生成的单词\n",
    "headers = [\"单词\", \"美音\", \"英音\", \"考试等级\", \"意思\", \"例句\", \"来源\"]\n",
    "start = 0\n",
    "failed = []\n",
    "with open(\"生成的形近单词.csv\", \"w+\", encoding='utf-8') as csvfile:\n",
    "    csv_writer = csv.writer(csvfile)\n",
    "    # 先写入列名\n",
    "    if start == 0:\n",
    "        csv_writer.writerow(headers)\n",
    "    counter = 0\n",
    "    cw = \"\"\n",
    "    for word in word_list:\n",
    "        try:\n",
    "            cw = word\n",
    "            if start <= counter:\n",
    "                current_word = query_word(DicSource.YOUDAO, word)\n",
    "                if current_word is not None:\n",
    "                    csv_writer.writerow([current_word.word, current_word.usphonetic, current_word.usphonetic,\n",
    "                                         current_word.exam, current_word.meaning,\n",
    "                                         current_word.example, current_word.source.value])\n",
    "                else:\n",
    "                    print(\"查询失败:\", word, counter)\n",
    "            counter += 1\n",
    "        except TypeError as error:\n",
    "            print(\"TypeError\", cw, \";counter:\", counter)"
   ]
  },
  {
   "cell_type": "code",
   "execution_count": null,
   "metadata": {
    "collapsed": false,
    "pycharm": {
     "name": "#%%\n"
    }
   },
   "outputs": [
    {
     "name": "stdout",
     "output_type": "stream",
     "text": [
      "1660465429.1471472\n",
      "1660465463.2886968\n"
     ]
    }
   ],
   "source": [
    "print(time.time())"
   ]
  }
 ],
 "metadata": {
  "kernelspec": {
   "display_name": "Python 3",
   "language": "python",
   "name": "python3"
  },
  "language_info": {
   "codemirror_mode": {
    "name": "ipython",
    "version": 3
   },
   "file_extension": ".py",
   "mimetype": "text/x-python",
   "name": "python",
   "nbconvert_exporter": "python",
   "pygments_lexer": "ipython3",
   "version": "3.12.3"
  }
 },
 "nbformat": 4,
 "nbformat_minor": 0
}
